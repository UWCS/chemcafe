{
 "cells": [
  {
   "cell_type": "markdown",
   "metadata": {},
   "source": [
    "# Numpy\n",
    "\n",
    "These exercises are designed to introduce NumPy, the fundamental package for scientific computing with Python. It includes tools for working with N-dimensional arrays, and common numeric computing tools.\n",
    "\n",
    "This notebook is adapted from [the NumPy quickstart tutorial](https://numpy.org/devdocs/user/quickstart.html)\n"
   ]
  },
  {
   "cell_type": "code",
   "execution_count": null,
   "metadata": {},
   "outputs": [],
   "source": [
    "import numpy as np\n",
    "import matplotlib.pyplot as plt\n"
   ]
  },
  {
   "cell_type": "markdown",
   "metadata": {},
   "source": [
    "## Introduction & Basics\n",
    "\n",
    "NumPy’s main object is the **homogeneous multidimensional array** - the `ndarray`. It is a table of elements (usually numbers), all of the same type, indexed by a tuple of non-negative integers. In NumPy dimensions are called **axes**.\n",
    "\n",
    "For example, the array for the coordinates of a point in 3D space, `[1, 2, 1]`, has one axis. That axis has 3 elements in it, so we say it has a length of 3. The array `a` in the example below has 2 axes: the first of length 2, and the second of length 3.\n"
   ]
  },
  {
   "cell_type": "code",
   "execution_count": null,
   "metadata": {},
   "outputs": [],
   "source": [
    "a = np.array([[1.0, 0.0, 0.0], [0.0, 1.0, 2.0]])  # create the array from a python list\n",
    "\n",
    "print(a)  # the array\n",
    "print(f\"{a.shape=}\")  # the 'shape' of the array\n",
    "print(f\"{a.ndim=}\")  # the number of dimensions, or axes\n",
    "print(f\"{a.dtype.name=}\")  # the type of the array elements\n",
    "print(f\"{a.itemsize=}\")  # the size in bytes of each array element\n",
    "print(f\"{a.size=}\")  # the total number of elements in the array\n",
    "print(f\"{type(a)=}\")  # how python identifies the type\n"
   ]
  },
  {
   "cell_type": "markdown",
   "metadata": {},
   "source": [
    "## Creating Arrays\n",
    "\n",
    "You can create arrays by calling `np.array()` on a python list or tuple, as shown in the example above. There's a few other useful ones to know of, however:\n",
    "\n",
    "- `np.zeros()` creates an array of all 0 with a specified shape\n",
    "- `np.ones()` creates an array of all 1 with a specified shape\n",
    "- `np.arange()` creates an array with a single axis, same as Python's built in `range()`\n",
    "- `np.linspace()` creates an array with a given number of elements\n"
   ]
  },
  {
   "cell_type": "code",
   "execution_count": null,
   "metadata": {},
   "outputs": [],
   "source": [
    "a1 = np.array([2, 3, 4])  # an array of type int64\n",
    "a2 = np.array([1.2, 2.3, 3.4])  # an array of type float64\n",
    "\n",
    "# you can also use the dtype= keyword argument to give it a type explicitly\n",
    "a3 = np.array([[1, 2], [3, 4]], dtype=complex)\n",
    "\n",
    "# a 3x4 matrix of zeros\n",
    "zero = np.zeros((3, 4))\n",
    "\n",
    "# a 2x3x4 array (3-d array) of ones\n",
    "ones = np.ones((2, 3, 4))\n",
    "\n",
    "# a range of numbers between 10 and 30 with a step size of 5\n",
    "fives = np.arange(10, 30, 5)\n",
    "\n",
    "# 100 numbers between 0 and 2*pi\n",
    "np.linspace(0, 2 * np.pi, 100)\n"
   ]
  },
  {
   "cell_type": "markdown",
   "metadata": {},
   "source": [
    "## Indexing, Slicing, Iterating\n",
    "\n",
    "So we have arrays, but how do we get the elements out of them or do anything with them?\n",
    "\n",
    "- You can **index** an array by passing some coordinates to get the element at that coordinate\n",
    "- **Slicing** an array gives you a range of elements from an array\n",
    "- Looping over an array to perform an operation on each element, or each sub-array, is called **iterating**\n"
   ]
  },
  {
   "cell_type": "markdown",
   "metadata": {},
   "source": [
    "We use coordinates in square brackets to get elements out of arrays\n"
   ]
  },
  {
   "cell_type": "code",
   "execution_count": null,
   "metadata": {},
   "outputs": [],
   "source": [
    "vec = np.linspace(0, 1, 11)\n",
    "print(a[0])  # 0.1\n",
    "print(a[5])  # 0.5\n",
    "print(a[-1])  # the last element in the array - we can index backwards!\n"
   ]
  },
  {
   "cell_type": "markdown",
   "metadata": {},
   "source": [
    "Indexing an array of arrays (a matrix) gives rows of the matrix\n"
   ]
  },
  {
   "cell_type": "code",
   "execution_count": null,
   "metadata": {},
   "outputs": [],
   "source": [
    "mat = np.arange(9).reshape(3, 3)\n",
    "print(mat)\n",
    "print(mat[0], mat[1], mat[2])\n"
   ]
  },
  {
   "cell_type": "markdown",
   "metadata": {},
   "source": [
    "We can give two coordinates to get single elements out of matrices\n"
   ]
  },
  {
   "cell_type": "code",
   "execution_count": null,
   "metadata": {},
   "outputs": [],
   "source": [
    "print(mat[1, 1])  # middle element\n",
    "print(mat[2, 2])  # bottom corner\n"
   ]
  },
  {
   "cell_type": "markdown",
   "metadata": {},
   "source": [
    "What if we want a column of a matrix instead of a row? We can use the **colon operator** `:` to get all items along an axis:\n",
    "\n",
    "- `mat[0, :]` - \"I would like the 0th row and all columns\"\n",
    "  - This is the same as `mat[0]`\n",
    "- `mat[:, 0]` - \"I would like all rows and the 0th column\"\n",
    "- `mat[: ,:]` - \"I would like all rows and all columns\"\n"
   ]
  },
  {
   "cell_type": "code",
   "execution_count": null,
   "metadata": {},
   "outputs": [],
   "source": [
    "print(\"row 0\", mat[0, :])\n",
    "print(\"column 0\", mat[:, 0])\n",
    "print(\"all rows, all columns\")\n",
    "print(mat[:, :])\n"
   ]
  },
  {
   "cell_type": "markdown",
   "metadata": {},
   "source": [
    "We can extend this syntax to give us slices, ranges of an array:\n"
   ]
  },
  {
   "cell_type": "code",
   "execution_count": null,
   "metadata": {},
   "outputs": [],
   "source": [
    "a2 = np.arange(15)\n",
    "\n",
    "print(a2[0])  # first element\n",
    "print(a2[0:2])  # elements [0, 2)\n",
    "print(a2[5:10])  # elements [5, 10)\n",
    "\n",
    "print(a2[:6])  # up to the 6th element\n",
    "print(a2[6:])  # from the 6th element onward\n",
    "print(a2[:])  # all elements along the axis\n"
   ]
  },
  {
   "cell_type": "markdown",
   "metadata": {},
   "source": [
    "The same applies to matrices:\n"
   ]
  },
  {
   "cell_type": "code",
   "execution_count": null,
   "metadata": {},
   "outputs": [],
   "source": [
    "mat2 = np.linspace(0, 12, 18).reshape(6, 3)\n",
    "print(mat2[:, :])  # all rows, all columns\n",
    "print(mat2[0:2, :])  # first two rows\n",
    "print(mat2[:, 0:2])  # first two columns\n",
    "print(mat2[:, -1])  # last column\n",
    "print(mat2[-2:, :])  # last two rows\n"
   ]
  },
  {
   "cell_type": "markdown",
   "metadata": {},
   "source": [
    "We can use **for loops** to iterate over elements of an array, performing operations\n"
   ]
  },
  {
   "cell_type": "code",
   "execution_count": null,
   "metadata": {},
   "outputs": [],
   "source": [
    "a3 = np.arange(10)\n",
    "for element in a3:\n",
    "    print(element)\n"
   ]
  },
  {
   "cell_type": "markdown",
   "metadata": {},
   "source": [
    "For example, we can iterate over an array to compute it's sum\n"
   ]
  },
  {
   "cell_type": "code",
   "execution_count": null,
   "metadata": {},
   "outputs": [],
   "source": [
    "sum = 0\n",
    "for element in a3:\n",
    "    sum = sum + a3\n",
    "print(sum)\n"
   ]
  },
  {
   "cell_type": "markdown",
   "metadata": {},
   "source": [
    "there are two ways to iterate over an array. Above, we do `for element in array`, whereas we can alternatively iterate over the **index** of each item in the array. we do `for index in range(len(array))`, which generates a range of numbers `[0, n)`, where `n` is the length of the array.\n"
   ]
  },
  {
   "cell_type": "code",
   "execution_count": null,
   "metadata": {},
   "outputs": [],
   "source": [
    "elems = np.array((1, 2, 3, 4))\n",
    "for i in range(len(elems)):\n",
    "    print(f\"index: {i}, element:{elems[i]}\")\n"
   ]
  },
  {
   "cell_type": "markdown",
   "metadata": {},
   "source": [
    "We can use this to modify arrays. For example, we could double every element in `elems`.\n"
   ]
  },
  {
   "cell_type": "code",
   "execution_count": null,
   "metadata": {},
   "outputs": [],
   "source": [
    "for i in range(len(elems)):\n",
    "    elems[i] = elems[i] * 2\n",
    "print(elems)\n"
   ]
  },
  {
   "cell_type": "markdown",
   "metadata": {},
   "source": [
    "We can extend this to loop over multiple arrays at once. The code below computes the sum of each pair of elements in `a` and `b` and stores it in `c`.\n"
   ]
  },
  {
   "cell_type": "code",
   "execution_count": null,
   "metadata": {},
   "outputs": [],
   "source": [
    "N = 10\n",
    "a = np.ones(N)\n",
    "b = np.linspace(0, 1, N)\n",
    "c = np.zeros(N)\n",
    "# we want the range [0, N), because we have N elements\n",
    "for i in range(N):\n",
    "    c[i] = a[i] + b[i]\n",
    "\n",
    "print(c)\n"
   ]
  },
  {
   "cell_type": "markdown",
   "metadata": {},
   "source": [
    "### Exercise 1.1\n",
    "\n",
    "Write some code to generate the identity matrix for:\n",
    "\n",
    "- 2x2\n",
    "- 3x3\n",
    "- NxN\n"
   ]
  },
  {
   "cell_type": "code",
   "execution_count": null,
   "metadata": {},
   "outputs": [],
   "source": [
    "# your code here\n"
   ]
  },
  {
   "cell_type": "markdown",
   "metadata": {},
   "source": [
    "### Exercise 1.1\n",
    "\n",
    "Write a loop to compute the norm of `a` and `b`, ie, $\\sqrt{\\textbf{a}^2 + \\textbf{b}^2}$\n"
   ]
  },
  {
   "cell_type": "code",
   "execution_count": null,
   "metadata": {},
   "outputs": [],
   "source": [
    "a = np.arange(15).reshape(3, 5)\n",
    "b = np.ones((3, 5))\n",
    "\n",
    "# your code here\n"
   ]
  },
  {
   "cell_type": "markdown",
   "metadata": {},
   "source": [
    "### Exercise 1.3\n",
    "\n",
    "Write some code to perform matrix multiplication on the two arrays `D` and `C` (compute `CD`)\n"
   ]
  },
  {
   "cell_type": "code",
   "execution_count": null,
   "metadata": {},
   "outputs": [],
   "source": [
    "C = np.array(([5, -7, 9], [-1, 4, 3], [11, 20, -4], [0, 17, -2]))\n",
    "D = np.linspace(0, 1, 15).reshape(3, 5)\n",
    "\n",
    "# your code here\n"
   ]
  },
  {
   "cell_type": "markdown",
   "metadata": {},
   "source": [
    "## Operations on Arrays\n",
    "\n",
    "Fortunately for you, all of the things you just implemented manually above are not necessary, because numpy includes them by default!\n"
   ]
  },
  {
   "cell_type": "markdown",
   "metadata": {},
   "source": [
    "You can think of a 1-dimensional `numpy` array as a vector, and we can use very compact code to perform _vector_ mathematical operations on the entire array.\n"
   ]
  },
  {
   "cell_type": "code",
   "execution_count": null,
   "metadata": {},
   "outputs": [],
   "source": [
    "b1 = np.array([1, 2, 3])\n",
    "print(b1)\n",
    "print(b1 + 1)\n",
    "print(\n",
    "    b1**2\n",
    ")  # Remember ** is the power operator. This calculates b*b for every number (b) stored in b1.\n"
   ]
  },
  {
   "cell_type": "markdown",
   "metadata": {},
   "source": [
    "If the mathematical expression involves two (or more) arrays, then an elementwise operation is performed. ie, each element in `a` will be added to each element `b`. Change the operator in the example below to see how the changes affect the output\n"
   ]
  },
  {
   "cell_type": "code",
   "execution_count": null,
   "metadata": {},
   "outputs": [],
   "source": [
    "a = np.array([1, 2, 3])\n",
    "b = np.array([4, 4, 6])\n",
    "print(a + b)\n",
    "# The first element of a is added to the first element of b, the second element of a is added to the second element of bb, etc.\n"
   ]
  },
  {
   "cell_type": "markdown",
   "metadata": {},
   "source": [
    "Let us try to calculate the square root of all the numbers in `a1`\n"
   ]
  },
  {
   "cell_type": "code",
   "execution_count": null,
   "metadata": {},
   "outputs": [],
   "source": [
    "from math import sqrt\n",
    "\n",
    "a1 = np.array([1, 2, 3, 4])\n",
    "sqrt(a1)\n"
   ]
  },
  {
   "cell_type": "markdown",
   "metadata": {},
   "source": [
    "This gives an error.\n",
    "\n",
    "Because `numpy` is not part of the standard Python library, the `sqrt` function provided by the `math` module does not know how to treat a `numpy` array of numbers. To do what we want we can use the `sqrt` function in `numpy` instead. There are similar equivalent mathematical functions in numpy for `abs`, `log`, `exp`, trig functions, etc. Have a play around with them below.\n"
   ]
  },
  {
   "cell_type": "code",
   "execution_count": null,
   "metadata": {},
   "outputs": [],
   "source": [
    "a1 = np.array([1, 2, 3, 4])\n",
    "np.sqrt(a1)\n"
   ]
  },
  {
   "cell_type": "markdown",
   "metadata": {},
   "source": [
    "A more motivating example: what if we want to plot a sine wave? We can create a range of time values, and then apply the sine function to the entire array. Here we also introduce matplotlib for visualising our data. We won't go into to much detail but `plt.plot(x, y)` will plot two arrays against each other. Try plotting some other functions below, such as logs, or some some other trigonometric functions.\n"
   ]
  },
  {
   "cell_type": "code",
   "execution_count": null,
   "metadata": {},
   "outputs": [],
   "source": [
    "t = np.linspace(0, 4 * np.pi)\n",
    "y = np.sin(t)\n",
    "\n",
    "plt.plot(t, y)\n"
   ]
  },
  {
   "cell_type": "markdown",
   "metadata": {},
   "source": [
    "Common linear algebra operations are also included in numpy for us:\n",
    "\n",
    "- `np.dot` implements the scalar product\n",
    "- The `@` operator implements matrix multiplication\n",
    "- `np.cross` implements the vector product\n",
    "- `array.T` will transpose the array `T`\n",
    "- `np.linalg.norm` computes the norm of an array\n",
    "- `np.linalg.inv` computes the inverse of a matrix\n"
   ]
  },
  {
   "cell_type": "code",
   "execution_count": 41,
   "metadata": {},
   "outputs": [
    {
     "name": "stdout",
     "output_type": "stream",
     "text": [
      "38\n",
      "[-4  8 -4]\n",
      "38\n",
      "[24 30 36]\n",
      "[ 20  74 128]\n",
      "[ 8 26 44]\n"
     ]
    }
   ],
   "source": [
    "a = np.array((1, 2, 3))\n",
    "b = np.array((5, 6, 7))\n",
    "\n",
    "print(np.dot(a, b))\n",
    "print(np.cross(a, b))\n",
    "print(a @ b.T)\n",
    "\n",
    "M = np.arange(9).reshape((3, 3))\n",
    "print(a @ M)\n",
    "print(b @ M.T)\n",
    "print(M @ a.T)\n"
   ]
  },
  {
   "cell_type": "markdown",
   "metadata": {},
   "source": [
    "### Exercise 2.1\n",
    "\n",
    "Calculate the angle in degrees between the vectors `v1` and `v2`\n"
   ]
  },
  {
   "cell_type": "code",
   "execution_count": 67,
   "metadata": {},
   "outputs": [],
   "source": [
    "v1 = np.array([2, 1])\n",
    "v2 = np.array([-5, 3])\n"
   ]
  },
  {
   "cell_type": "markdown",
   "metadata": {},
   "source": [
    "### Exercise 2.2\n",
    "\n",
    "Find a vector $x$ that satisfies the equation $Ax=B$ using the parameters given below. Verify this is the correct solution by confirming that $Ax - B = 0$\n"
   ]
  },
  {
   "cell_type": "code",
   "execution_count": 51,
   "metadata": {},
   "outputs": [],
   "source": [
    "A = np.array([[4, 3, 2], [-2, 2, 3], [3, -5, 2]])\n",
    "B = np.array([25, -10, -4])\n"
   ]
  },
  {
   "cell_type": "markdown",
   "metadata": {},
   "source": [
    "### Exercise 2.3\n",
    "\n",
    "Linear least squares regression is a common technique for fitting a line to some data. We have our data $x$ and $y$ below, and want a model $y = m\\cdot x + c$ we can use to predict new data points. Given $x$ and $y$ we can calculate $m$ and $c$ as below, where $N$ is the number of data points we have.\n",
    "\n",
    "$$\n",
    "m = \\frac{N \\sum (xy) - \\sum x \\sum y}{ N\\sum x^2 − (\\sum x)^2}\n",
    "$$\n",
    "\n",
    "$$\n",
    "c = \\frac{\\sum y - m \\sum x }{N}\n",
    "$$\n",
    "\n",
    "Use the above equations, calculate a model for the data below, and assign the results to the variables `m` and `c`. Use your model to create a new array `y_pred` from `x` to test the fit of your model.\n"
   ]
  },
  {
   "cell_type": "code",
   "execution_count": 75,
   "metadata": {},
   "outputs": [
    {
     "data": {
      "text/plain": [
       "[<matplotlib.lines.Line2D at 0x11f48fb90>]"
      ]
     },
     "execution_count": 75,
     "metadata": {},
     "output_type": "execute_result"
    },
    {
     "data": {
      "image/png": "[encoded data removed]",
      "text/plain": [
       "<Figure size 640x480 with 1 Axes>"
      ]
     },
     "metadata": {},
     "output_type": "display_data"
    }
   ],
   "source": [
    "x = np.array([2, 3, 5, 7, 9])\n",
    "y = np.array([4, 5, 7, 10, 15])\n",
    "\n",
    "# your code here\n",
    "# replace placeholders with calculations\n",
    "m = 1\n",
    "c = 0\n",
    "y_pred = np.zeros(y.shape)\n",
    "\n",
    "plt.scatter(x, y)  # plot original data\n",
    "plt.plot(x, y_pred, \"red\")  # plot fitted line\n"
   ]
  },
  {
   "cell_type": "code",
   "execution_count": null,
   "metadata": {},
   "outputs": [],
   "source": [
    "#\n"
   ]
  },
  {
   "cell_type": "markdown",
   "metadata": {},
   "source": [
    "L\n"
   ]
  }
 ],
 "metadata": {
  "kernelspec": {
   "display_name": "Python 3.11.0 64-bit ('3.11.0')",
   "language": "python",
   "name": "python3"
  },
  "language_info": {
   "codemirror_mode": {
    "name": "ipython",
    "version": 3
   },
   "file_extension": ".py",
   "mimetype": "text/x-python",
   "name": "python",
   "nbconvert_exporter": "python",
   "pygments_lexer": "ipython3",
   "version": "3.11.0"
  },
  "orig_nbformat": 4,
  "vscode": {
   "interpreter": {
    "hash": "e22ada7a6bc7103a070aa67793e791764d9fd88218a02ebaf91e6a9f7260fcfc"
   }
  }
 },
 "nbformat": 4,
 "nbformat_minor": 2
}
